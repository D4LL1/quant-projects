{
 "cells": [
  {
   "cell_type": "code",
   "execution_count": 29,
   "metadata": {},
   "outputs": [],
   "source": [
    "import requests\n",
    "import pandas as pd\n",
    "import numpy as np\n",
    "from datetime import date\n",
    "import yfinance as yf\n",
    "import seaborn as sns\n",
    "from sklearn.cluster import DBSCAN\n",
    "from sklearn.datasets import make_blobs\n",
    "from collections import defaultdict\n",
    "import matplotlib.pyplot as plt"
   ]
  },
  {
   "cell_type": "code",
   "execution_count": 30,
   "metadata": {},
   "outputs": [],
   "source": [
    "URL_BASE = 'https://api.stlouisfed.org/'\n",
    "ENDPOINT = 'fred/series/observations'\n",
    "API_KEY = \"429c7bb6ba1c72479e276f06b345db1d\"\n",
    "URL = URL_BASE + ENDPOINT\n",
    "start_date = \"2021-03-01\"\n",
    "end_date = date.today().strftime(\"%Y-%m-%d\")\n",
    "INDICATOR = 'CORESTICKM159SFRBATL'"
   ]
  },
  {
   "cell_type": "code",
   "execution_count": 31,
   "metadata": {},
   "outputs": [],
   "source": [
    "def fetch_fred_data(indicator, start_date=None, end_date=None, frequency='m'):\n",
    "    \"\"\"\n",
    "    Pobiera dane z FRED API od zera za każdym razem\n",
    "    \n",
    "    Args:\n",
    "        indicator (str): Kod wskaźnika FRED (np. 'CORESTICKM159SFRBATL')\n",
    "        start_date (str): Data początkowa w formacie 'YYYY-MM-DD'\n",
    "        end_date (str): Data końcowa w formacie 'YYYY-MM-DD' \n",
    "        frequency (str): Częstotliwość danych ('d', 'w', 'm', 'q', 'a')\n",
    "    \n",
    "    Returns:\n",
    "        pd.DataFrame: Dane z FRED API\n",
    "    \"\"\"\n",
    "    \n",
    "    # Konfiguracja API\n",
    "    URL_BASE = 'https://api.stlouisfed.org/'\n",
    "    ENDPOINT = 'fred/series/observations'\n",
    "    API_KEY = \"429c7bb6ba1c72479e276f06b345db1d\"  # Pamiętaj o zabezpieczeniu klucza!\n",
    "    URL = URL_BASE + ENDPOINT\n",
    "    \n",
    "    # Parametry zapytania\n",
    "    params = {\n",
    "        'api_key': API_KEY,\n",
    "        'series_id': indicator,\n",
    "        'file_type': 'json',\n",
    "        'frequency': frequency\n",
    "    }\n",
    "    \n",
    "    # Dodanie dat jeśli podane\n",
    "    if start_date:\n",
    "        params['observation_start'] = start_date\n",
    "    if end_date:\n",
    "        params['observation_end'] = end_date\n",
    "    \n",
    "    print(f\"Pobieranie danych dla wskaźnika: {indicator}\")\n",
    "    print(f\"Okres: {start_date or 'początek'} - {end_date or 'koniec'}\")\n",
    "    \n",
    "    try:\n",
    "        # Wykonanie zapytania\n",
    "        response = requests.get(URL, params=params)\n",
    "        response.raise_for_status()  # Sprawdzenie błędów HTTP\n",
    "        \n",
    "        # Przetworzenie odpowiedzi\n",
    "        data = response.json()\n",
    "        \n",
    "        if 'observations' not in data:\n",
    "            print(\"Błąd: Brak danych w odpowiedzi API\")\n",
    "            return None\n",
    "            \n",
    "        # Normalizacja danych JSON\n",
    "        df = pd.json_normalize(data[\"observations\"])\n",
    "        \n",
    "        if df.empty:\n",
    "            print(\"Ostrzeżenie: Pobrano pusty zbiór danych\")\n",
    "            return df\n",
    "            \n",
    "        # Usunięcie kolumn realtime (jeśli istnieją)\n",
    "        columns_to_drop = [\"realtime_start\", \"realtime_end\"]\n",
    "        df_cleaned = df.drop(columns=[col for col in columns_to_drop if col in df.columns], axis=1)\n",
    "        \n",
    "        # Konwersja dat i wartości\n",
    "        if 'date' in df_cleaned.columns:\n",
    "            df_cleaned['date'] = pd.to_datetime(df_cleaned['date'])\n",
    "            \n",
    "        if 'value' in df_cleaned.columns:\n",
    "            # Zamiana '.' na NaN dla brakujących wartości\n",
    "            df_cleaned['value'] = df_cleaned['value'].replace('.', np.nan)\n",
    "            df_cleaned['value'] = pd.to_numeric(df_cleaned['value'], errors='coerce')\n",
    "        \n",
    "        print(f\"Pobrano {len(df_cleaned)} obserwacji\")\n",
    "        return df_cleaned\n",
    "        \n",
    "    except requests.exceptions.RequestException as e:\n",
    "        print(f\"Błąd zapytania HTTP: {e}\")\n",
    "        return None\n",
    "    except Exception as e:\n",
    "        print(f\"Błąd podczas przetwarzania danych: {e}\")\n",
    "        return None\n",
    "\n",
    "# Funkcja do pobierania wielu wskaźników i łączenia w jeden DataFrame\n",
    "def fetch_multiple_indicators(indicators, start_date=None, end_date=None, frequency='m'):\n",
    "    \"\"\"\n",
    "    Pobiera dane dla wielu wskaźników i łączy je w jeden DataFrame\n",
    "    \n",
    "    Args:\n",
    "        indicators (list): Lista kodów wskaźników\n",
    "        start_date (str): Data początkowa\n",
    "        end_date (str): Data końcowa\n",
    "        frequency (str): Częstotliwość danych\n",
    "        \n",
    "    Returns:\n",
    "        pd.DataFrame: Połączony DataFrame z wszystkimi wskaźnikami\n",
    "    \"\"\"\n",
    "    all_dataframes = []\n",
    "    \n",
    "    for indicator in indicators:\n",
    "        print(f\"\\n--- Pobieranie {indicator} ---\")\n",
    "        data = fetch_fred_data(indicator, start_date, end_date, frequency)\n",
    "        if data is not None and not data.empty:\n",
    "            # Zmiana nazwy kolumny 'value' na nazwę wskaźnika\n",
    "            data_copy = data.copy()\n",
    "            data_copy = data_copy.rename(columns={'value': indicator})\n",
    "            # Zachowujemy tylko kolumny 'date' i wskaźnik\n",
    "            data_copy = data_copy[['date', indicator]]\n",
    "            all_dataframes.append(data_copy)\n",
    "        else:\n",
    "            print(f\"Nie udało się pobrać danych dla {indicator}\")\n",
    "    \n",
    "    if not all_dataframes:\n",
    "        print(\"Nie pobrano żadnych danych\")\n",
    "        return pd.DataFrame()\n",
    "    \n",
    "    # Łączenie wszystkich DataFrame'ów po kolumnie 'date'\n",
    "    combined_df = all_dataframes[0]\n",
    "    for df in all_dataframes[1:]:\n",
    "        combined_df = pd.merge(combined_df, df, on='date', how='outer')\n",
    "    \n",
    "    # Sortowanie po dacie\n",
    "    combined_df = combined_df.sort_values('date').reset_index(drop=True)\n",
    "    \n",
    "    print(f\"\\nPołączono {len(all_dataframes)} wskaźników w jeden DataFrame\")\n",
    "    print(f\"Kształt połączonego DataFrame: {combined_df.shape}\")\n",
    "    \n",
    "    return combined_df\n",
    "\n",
    "# Główna funkcja - uniwersalna dla pojedynczego wskaźnika lub wielu\n",
    "def get_fred_data(indicators, start_date=None, end_date=None, frequency='m'):\n",
    "    \"\"\"\n",
    "    Uniwersalna funkcja do pobierania danych FRED - zwraca zawsze pd.DataFrame\n",
    "    \n",
    "    Args:\n",
    "        indicators (str lub list): Pojedynczy wskaźnik lub lista wskaźników\n",
    "        start_date (str): Data początkowa w formacie 'YYYY-MM-DD'\n",
    "        end_date (str): Data końcowa w formacie 'YYYY-MM-DD'\n",
    "        frequency (str): Częstotliwość danych ('d', 'w', 'm', 'q', 'a')\n",
    "    \n",
    "    Returns:\n",
    "        pd.DataFrame: DataFrame z danymi (pojedynczy wskaźnik lub połączone wskaźniki)\n",
    "    \"\"\"\n",
    "    \n",
    "    # Sprawdzenie czy indicators to string czy lista\n",
    "    if isinstance(indicators, str):\n",
    "        # Pojedynczy wskaźnik\n",
    "        print(f\"Pobieranie pojedynczego wskaźnika: {indicators}\")\n",
    "        result = fetch_fred_data(indicators, start_date, end_date, frequency)\n",
    "        return result if result is not None else pd.DataFrame()\n",
    "    \n",
    "    elif isinstance(indicators, list):\n",
    "        # Wiele wskaźników\n",
    "        print(f\"Pobieranie {len(indicators)} wskaźników: {', '.join(indicators)}\")\n",
    "        return fetch_multiple_indicators(indicators, start_date, end_date, frequency)\n",
    "    \n",
    "    else:\n",
    "        print(\"Błąd: indicators musi być string lub lista\")\n",
    "        return pd.DataFrame()"
   ]
  },
  {
   "cell_type": "markdown",
   "metadata": {},
   "source": [
    "## STIR regimes"
   ]
  },
  {
   "cell_type": "markdown",
   "metadata": {},
   "source": [
    "WALCL - Assets: Total Assets: Total Assets\n",
    "WREPODEL - Liabilities and Capital: Liabilities: Reverse Repurchase Agreements\n",
    "WTREGEN - iabilities and Capital: Liabilities: Deposits with F.R. Banks, Other Than Reserve Balances: U.S. Treasury, General Account\n",
    "WRESBAL - Liabilities and Capital: Other Factors Draining Reserve Balances: Reserve Balances with Federal Reserve Banks\n",
    "RRPONTSYD - Overnight Reverse Repurchase Agreements: Treasury Securities Sold by the Federal Reserve in the Temporary Open Market Operations\n",
    "EFFRVOL - Effective Federal Funds Volume \n",
    "SOFRVOL - Secured Overnight Financing Volume \n",
    "WREPOFOR - Liabilities and Capital: Liabilities: Reverse Repurchase Agreements: Foreign Official and International Accounts\n",
    "WSEFINT1 - Memorandum Items: Custody Holdings: Securities in Custody for Foreign and International Accounts"
   ]
  },
  {
   "cell_type": "code",
   "execution_count": 52,
   "metadata": {},
   "outputs": [
    {
     "name": "stdout",
     "output_type": "stream",
     "text": [
      "Pobieranie 8 wskaźników: WALCL, WREPODEL, WTREGEN, RRPONTSYD, EFFRVOL, SOFRVOL, WREPOFOR, WSEFINT1\n",
      "\n",
      "--- Pobieranie WALCL ---\n",
      "Pobieranie danych dla wskaźnika: WALCL\n",
      "Okres: 2021-03-01 - 2025-07-13\n",
      "Pobrano 228 obserwacji\n",
      "\n",
      "--- Pobieranie WREPODEL ---\n",
      "Pobieranie danych dla wskaźnika: WREPODEL\n",
      "Okres: 2021-03-01 - 2025-07-13\n",
      "Pobrano 228 obserwacji\n",
      "\n",
      "--- Pobieranie WTREGEN ---\n",
      "Pobieranie danych dla wskaźnika: WTREGEN\n",
      "Okres: 2021-03-01 - 2025-07-13\n",
      "Pobrano 228 obserwacji\n",
      "\n",
      "--- Pobieranie RRPONTSYD ---\n",
      "Pobieranie danych dla wskaźnika: RRPONTSYD\n",
      "Okres: 2021-03-01 - 2025-07-13\n",
      "Pobrano 228 obserwacji\n",
      "\n",
      "--- Pobieranie EFFRVOL ---\n",
      "Pobieranie danych dla wskaźnika: EFFRVOL\n",
      "Okres: 2021-03-01 - 2025-07-13\n",
      "Pobrano 228 obserwacji\n",
      "\n",
      "--- Pobieranie SOFRVOL ---\n",
      "Pobieranie danych dla wskaźnika: SOFRVOL\n",
      "Okres: 2021-03-01 - 2025-07-13\n",
      "Pobrano 228 obserwacji\n",
      "\n",
      "--- Pobieranie WREPOFOR ---\n",
      "Pobieranie danych dla wskaźnika: WREPOFOR\n",
      "Okres: 2021-03-01 - 2025-07-13\n",
      "Pobrano 228 obserwacji\n",
      "\n",
      "--- Pobieranie WSEFINT1 ---\n",
      "Pobieranie danych dla wskaźnika: WSEFINT1\n",
      "Okres: 2021-03-01 - 2025-07-13\n",
      "Pobrano 228 obserwacji\n",
      "\n",
      "Połączono 8 wskaźników w jeden DataFrame\n",
      "Kształt połączonego DataFrame: (456, 9)\n"
     ]
    },
    {
     "name": "stderr",
     "output_type": "stream",
     "text": [
      "/var/folders/m9/j3jd25ls7cbbv4dpcfjkkhw40000gn/T/ipykernel_974/3144655517.py:6: FutureWarning:\n",
      "\n",
      "YF.download() has changed argument auto_adjust default to True\n",
      "\n",
      "[*********************100%***********************]  1 of 1 completed\n"
     ]
    }
   ],
   "source": [
    "df = get_fred_data([\"WALCL\", \"WREPODEL\",'WTREGEN','RRPONTSYD','EFFRVOL','SOFRVOL','WREPOFOR','WSEFINT1'],start_date=start_date, end_date=end_date, frequency='w')\n",
    "df[['RRPONTSYD','EFFRVOL','SOFRVOL']]  =df[['RRPONTSYD','EFFRVOL','SOFRVOL']].shift(-1)\n",
    "df = df.dropna()\n",
    "df = df.drop(columns=['date'], axis=1)\n",
    "df_log = (np.log(df) - np.log(df.shift(1).dropna())).dropna()\n",
    "btc_df = yf.download('BTC-USD',start=start_date, interval='1wk')\n",
    "btc_log = np.log(btc_df['Close'])\n",
    "btc_log_chg = (btc_log - btc_log.shift(1)).dropna()"
   ]
  },
  {
   "cell_type": "code",
   "execution_count": 53,
   "metadata": {},
   "outputs": [],
   "source": [
    "#sns.pairplot(df_log)"
   ]
  },
  {
   "cell_type": "code",
   "execution_count": 169,
   "metadata": {},
   "outputs": [],
   "source": [
    "dbscan = DBSCAN(eps=0.1, min_samples=5)\n",
    "model = dbscan.fit_predict(btc_log_chg)\n",
    "btc_log_chg['cluster']= model\n"
   ]
  },
  {
   "cell_type": "code",
   "execution_count": 170,
   "metadata": {},
   "outputs": [
    {
     "data": {
      "application/vnd.plotly.v1+json": {
       "config": {
        "plotlyServerURL": "https://plot.ly"
       },
       "data": [
        {
         "hovertemplate": "x=%{x}<br>y=%{y}<br>color=%{marker.color}<extra></extra>",
         "legendgroup": "",
         "marker": {
          "color": {
           "bdata": "AAAAAAAAAAAB//8BAQIBAQICAgICAQICAgICAgEBAQECAQECAgICAQICAQEBAgECAgICAgICAgICAgEBAgICAgICAgICAgICAgICAgICAgICAgICAgICAgICAgICAQIBAgIBAgICAgICAAEBAgEBAQIBAQEBAgEBAQIBAgICAgICAgICAQICAQECAgICAgICAgEBAQEBAgICAgICAQICAQEBAgECAgICAgECAgEBAQICAgECAgEBAQIBAQEBAQEBAQICAQEBAQABAQEBAQEBAAABAQEBAQAAAQECAgEBAQIBAQE=",
           "dtype": "i1"
          },
          "coloraxis": "coloraxis",
          "symbol": "circle"
         },
         "mode": "markers",
         "name": "",
         "orientation": "v",
         "showlegend": false,
         "type": "scatter",
         "x": {
          "bdata": "AAABAAIAAwAEAAUABgAHAAgACQAKAAsADAANAA4ADwAQABEAEgATABQAFQAWABcAGAAZABoAGwAcAB0AHgAfACAAIQAiACMAJAAlACYAJwAoACkAKgArACwALQAuAC8AMAAxADIAMwA0ADUANgA3ADgAOQA6ADsAPAA9AD4APwBAAEEAQgBDAEQARQBGAEcASABJAEoASwBMAE0ATgBPAFAAUQBSAFMAVABVAFYAVwBYAFkAWgBbAFwAXQBeAF8AYABhAGIAYwBkAGUAZgBnAGgAaQBqAGsAbABtAG4AbwBwAHEAcgBzAHQAdQB2AHcAeAB5AHoAewB8AH0AfgB/AIAAgQCCAIMAhACFAIYAhwCIAIkAigCLAIwAjQCOAI8AkACRAJIAkwCUAJUAlgCXAJgAmQCaAJsAnACdAJ4AnwCgAKEAogCjAKQApQCmAKcAqACpAKoAqwCsAK0ArgCvALAAsQCyALMAtAC1ALYAtwC4ALkAugC7ALwAvQC+AL8AwADBAMIAwwDEAMUAxgDHAMgAyQDKAMsAzADNAM4AzwDQANEA0gDTANQA1QDWANcA2ADZANoA2wDcAN0A3gDfAOAA4QDiAA==",
          "dtype": "i2"
         },
         "xaxis": "x",
         "y": {
          "bdata": "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",
          "dtype": "f8"
         },
         "yaxis": "y"
        }
       ],
       "layout": {
        "coloraxis": {
         "colorbar": {
          "title": {
           "text": "color"
          }
         },
         "colorscale": [
          [
           0,
           "#0d0887"
          ],
          [
           0.1111111111111111,
           "#46039f"
          ],
          [
           0.2222222222222222,
           "#7201a8"
          ],
          [
           0.3333333333333333,
           "#9c179e"
          ],
          [
           0.4444444444444444,
           "#bd3786"
          ],
          [
           0.5555555555555556,
           "#d8576b"
          ],
          [
           0.6666666666666666,
           "#ed7953"
          ],
          [
           0.7777777777777778,
           "#fb9f3a"
          ],
          [
           0.8888888888888888,
           "#fdca26"
          ],
          [
           1,
           "#f0f921"
          ]
         ]
        },
        "legend": {
         "tracegroupgap": 0
        },
        "margin": {
         "t": 60
        },
        "template": {
         "data": {
          "bar": [
           {
            "error_x": {
             "color": "#2a3f5f"
            },
            "error_y": {
             "color": "#2a3f5f"
            },
            "marker": {
             "line": {
              "color": "#E5ECF6",
              "width": 0.5
             },
             "pattern": {
              "fillmode": "overlay",
              "size": 10,
              "solidity": 0.2
             }
            },
            "type": "bar"
           }
          ],
          "barpolar": [
           {
            "marker": {
             "line": {
              "color": "#E5ECF6",
              "width": 0.5
             },
             "pattern": {
              "fillmode": "overlay",
              "size": 10,
              "solidity": 0.2
             }
            },
            "type": "barpolar"
           }
          ],
          "carpet": [
           {
            "aaxis": {
             "endlinecolor": "#2a3f5f",
             "gridcolor": "white",
             "linecolor": "white",
             "minorgridcolor": "white",
             "startlinecolor": "#2a3f5f"
            },
            "baxis": {
             "endlinecolor": "#2a3f5f",
             "gridcolor": "white",
             "linecolor": "white",
             "minorgridcolor": "white",
             "startlinecolor": "#2a3f5f"
            },
            "type": "carpet"
           }
          ],
          "choropleth": [
           {
            "colorbar": {
             "outlinewidth": 0,
             "ticks": ""
            },
            "type": "choropleth"
           }
          ],
          "contour": [
           {
            "colorbar": {
             "outlinewidth": 0,
             "ticks": ""
            },
            "colorscale": [
             [
              0,
              "#0d0887"
             ],
             [
              0.1111111111111111,
              "#46039f"
             ],
             [
              0.2222222222222222,
              "#7201a8"
             ],
             [
              0.3333333333333333,
              "#9c179e"
             ],
             [
              0.4444444444444444,
              "#bd3786"
             ],
             [
              0.5555555555555556,
              "#d8576b"
             ],
             [
              0.6666666666666666,
              "#ed7953"
             ],
             [
              0.7777777777777778,
              "#fb9f3a"
             ],
             [
              0.8888888888888888,
              "#fdca26"
             ],
             [
              1,
              "#f0f921"
             ]
            ],
            "type": "contour"
           }
          ],
          "contourcarpet": [
           {
            "colorbar": {
             "outlinewidth": 0,
             "ticks": ""
            },
            "type": "contourcarpet"
           }
          ],
          "heatmap": [
           {
            "colorbar": {
             "outlinewidth": 0,
             "ticks": ""
            },
            "colorscale": [
             [
              0,
              "#0d0887"
             ],
             [
              0.1111111111111111,
              "#46039f"
             ],
             [
              0.2222222222222222,
              "#7201a8"
             ],
             [
              0.3333333333333333,
              "#9c179e"
             ],
             [
              0.4444444444444444,
              "#bd3786"
             ],
             [
              0.5555555555555556,
              "#d8576b"
             ],
             [
              0.6666666666666666,
              "#ed7953"
             ],
             [
              0.7777777777777778,
              "#fb9f3a"
             ],
             [
              0.8888888888888888,
              "#fdca26"
             ],
             [
              1,
              "#f0f921"
             ]
            ],
            "type": "heatmap"
           }
          ],
          "histogram": [
           {
            "marker": {
             "pattern": {
              "fillmode": "overlay",
              "size": 10,
              "solidity": 0.2
             }
            },
            "type": "histogram"
           }
          ],
          "histogram2d": [
           {
            "colorbar": {
             "outlinewidth": 0,
             "ticks": ""
            },
            "colorscale": [
             [
              0,
              "#0d0887"
             ],
             [
              0.1111111111111111,
              "#46039f"
             ],
             [
              0.2222222222222222,
              "#7201a8"
             ],
             [
              0.3333333333333333,
              "#9c179e"
             ],
             [
              0.4444444444444444,
              "#bd3786"
             ],
             [
              0.5555555555555556,
              "#d8576b"
             ],
             [
              0.6666666666666666,
              "#ed7953"
             ],
             [
              0.7777777777777778,
              "#fb9f3a"
             ],
             [
              0.8888888888888888,
              "#fdca26"
             ],
             [
              1,
              "#f0f921"
             ]
            ],
            "type": "histogram2d"
           }
          ],
          "histogram2dcontour": [
           {
            "colorbar": {
             "outlinewidth": 0,
             "ticks": ""
            },
            "colorscale": [
             [
              0,
              "#0d0887"
             ],
             [
              0.1111111111111111,
              "#46039f"
             ],
             [
              0.2222222222222222,
              "#7201a8"
             ],
             [
              0.3333333333333333,
              "#9c179e"
             ],
             [
              0.4444444444444444,
              "#bd3786"
             ],
             [
              0.5555555555555556,
              "#d8576b"
             ],
             [
              0.6666666666666666,
              "#ed7953"
             ],
             [
              0.7777777777777778,
              "#fb9f3a"
             ],
             [
              0.8888888888888888,
              "#fdca26"
             ],
             [
              1,
              "#f0f921"
             ]
            ],
            "type": "histogram2dcontour"
           }
          ],
          "mesh3d": [
           {
            "colorbar": {
             "outlinewidth": 0,
             "ticks": ""
            },
            "type": "mesh3d"
           }
          ],
          "parcoords": [
           {
            "line": {
             "colorbar": {
              "outlinewidth": 0,
              "ticks": ""
             }
            },
            "type": "parcoords"
           }
          ],
          "pie": [
           {
            "automargin": true,
            "type": "pie"
           }
          ],
          "scatter": [
           {
            "fillpattern": {
             "fillmode": "overlay",
             "size": 10,
             "solidity": 0.2
            },
            "type": "scatter"
           }
          ],
          "scatter3d": [
           {
            "line": {
             "colorbar": {
              "outlinewidth": 0,
              "ticks": ""
             }
            },
            "marker": {
             "colorbar": {
              "outlinewidth": 0,
              "ticks": ""
             }
            },
            "type": "scatter3d"
           }
          ],
          "scattercarpet": [
           {
            "marker": {
             "colorbar": {
              "outlinewidth": 0,
              "ticks": ""
             }
            },
            "type": "scattercarpet"
           }
          ],
          "scattergeo": [
           {
            "marker": {
             "colorbar": {
              "outlinewidth": 0,
              "ticks": ""
             }
            },
            "type": "scattergeo"
           }
          ],
          "scattergl": [
           {
            "marker": {
             "colorbar": {
              "outlinewidth": 0,
              "ticks": ""
             }
            },
            "type": "scattergl"
           }
          ],
          "scattermap": [
           {
            "marker": {
             "colorbar": {
              "outlinewidth": 0,
              "ticks": ""
             }
            },
            "type": "scattermap"
           }
          ],
          "scattermapbox": [
           {
            "marker": {
             "colorbar": {
              "outlinewidth": 0,
              "ticks": ""
             }
            },
            "type": "scattermapbox"
           }
          ],
          "scatterpolar": [
           {
            "marker": {
             "colorbar": {
              "outlinewidth": 0,
              "ticks": ""
             }
            },
            "type": "scatterpolar"
           }
          ],
          "scatterpolargl": [
           {
            "marker": {
             "colorbar": {
              "outlinewidth": 0,
              "ticks": ""
             }
            },
            "type": "scatterpolargl"
           }
          ],
          "scatterternary": [
           {
            "marker": {
             "colorbar": {
              "outlinewidth": 0,
              "ticks": ""
             }
            },
            "type": "scatterternary"
           }
          ],
          "surface": [
           {
            "colorbar": {
             "outlinewidth": 0,
             "ticks": ""
            },
            "colorscale": [
             [
              0,
              "#0d0887"
             ],
             [
              0.1111111111111111,
              "#46039f"
             ],
             [
              0.2222222222222222,
              "#7201a8"
             ],
             [
              0.3333333333333333,
              "#9c179e"
             ],
             [
              0.4444444444444444,
              "#bd3786"
             ],
             [
              0.5555555555555556,
              "#d8576b"
             ],
             [
              0.6666666666666666,
              "#ed7953"
             ],
             [
              0.7777777777777778,
              "#fb9f3a"
             ],
             [
              0.8888888888888888,
              "#fdca26"
             ],
             [
              1,
              "#f0f921"
             ]
            ],
            "type": "surface"
           }
          ],
          "table": [
           {
            "cells": {
             "fill": {
              "color": "#EBF0F8"
             },
             "line": {
              "color": "white"
             }
            },
            "header": {
             "fill": {
              "color": "#C8D4E3"
             },
             "line": {
              "color": "white"
             }
            },
            "type": "table"
           }
          ]
         },
         "layout": {
          "annotationdefaults": {
           "arrowcolor": "#2a3f5f",
           "arrowhead": 0,
           "arrowwidth": 1
          },
          "autotypenumbers": "strict",
          "coloraxis": {
           "colorbar": {
            "outlinewidth": 0,
            "ticks": ""
           }
          },
          "colorscale": {
           "diverging": [
            [
             0,
             "#8e0152"
            ],
            [
             0.1,
             "#c51b7d"
            ],
            [
             0.2,
             "#de77ae"
            ],
            [
             0.3,
             "#f1b6da"
            ],
            [
             0.4,
             "#fde0ef"
            ],
            [
             0.5,
             "#f7f7f7"
            ],
            [
             0.6,
             "#e6f5d0"
            ],
            [
             0.7,
             "#b8e186"
            ],
            [
             0.8,
             "#7fbc41"
            ],
            [
             0.9,
             "#4d9221"
            ],
            [
             1,
             "#276419"
            ]
           ],
           "sequential": [
            [
             0,
             "#0d0887"
            ],
            [
             0.1111111111111111,
             "#46039f"
            ],
            [
             0.2222222222222222,
             "#7201a8"
            ],
            [
             0.3333333333333333,
             "#9c179e"
            ],
            [
             0.4444444444444444,
             "#bd3786"
            ],
            [
             0.5555555555555556,
             "#d8576b"
            ],
            [
             0.6666666666666666,
             "#ed7953"
            ],
            [
             0.7777777777777778,
             "#fb9f3a"
            ],
            [
             0.8888888888888888,
             "#fdca26"
            ],
            [
             1,
             "#f0f921"
            ]
           ],
           "sequentialminus": [
            [
             0,
             "#0d0887"
            ],
            [
             0.1111111111111111,
             "#46039f"
            ],
            [
             0.2222222222222222,
             "#7201a8"
            ],
            [
             0.3333333333333333,
             "#9c179e"
            ],
            [
             0.4444444444444444,
             "#bd3786"
            ],
            [
             0.5555555555555556,
             "#d8576b"
            ],
            [
             0.6666666666666666,
             "#ed7953"
            ],
            [
             0.7777777777777778,
             "#fb9f3a"
            ],
            [
             0.8888888888888888,
             "#fdca26"
            ],
            [
             1,
             "#f0f921"
            ]
           ]
          },
          "colorway": [
           "#636efa",
           "#EF553B",
           "#00cc96",
           "#ab63fa",
           "#FFA15A",
           "#19d3f3",
           "#FF6692",
           "#B6E880",
           "#FF97FF",
           "#FECB52"
          ],
          "font": {
           "color": "#2a3f5f"
          },
          "geo": {
           "bgcolor": "white",
           "lakecolor": "white",
           "landcolor": "#E5ECF6",
           "showlakes": true,
           "showland": true,
           "subunitcolor": "white"
          },
          "hoverlabel": {
           "align": "left"
          },
          "hovermode": "closest",
          "mapbox": {
           "style": "light"
          },
          "paper_bgcolor": "white",
          "plot_bgcolor": "#E5ECF6",
          "polar": {
           "angularaxis": {
            "gridcolor": "white",
            "linecolor": "white",
            "ticks": ""
           },
           "bgcolor": "#E5ECF6",
           "radialaxis": {
            "gridcolor": "white",
            "linecolor": "white",
            "ticks": ""
           }
          },
          "scene": {
           "xaxis": {
            "backgroundcolor": "#E5ECF6",
            "gridcolor": "white",
            "gridwidth": 2,
            "linecolor": "white",
            "showbackground": true,
            "ticks": "",
            "zerolinecolor": "white"
           },
           "yaxis": {
            "backgroundcolor": "#E5ECF6",
            "gridcolor": "white",
            "gridwidth": 2,
            "linecolor": "white",
            "showbackground": true,
            "ticks": "",
            "zerolinecolor": "white"
           },
           "zaxis": {
            "backgroundcolor": "#E5ECF6",
            "gridcolor": "white",
            "gridwidth": 2,
            "linecolor": "white",
            "showbackground": true,
            "ticks": "",
            "zerolinecolor": "white"
           }
          },
          "shapedefaults": {
           "line": {
            "color": "#2a3f5f"
           }
          },
          "ternary": {
           "aaxis": {
            "gridcolor": "white",
            "linecolor": "white",
            "ticks": ""
           },
           "baxis": {
            "gridcolor": "white",
            "linecolor": "white",
            "ticks": ""
           },
           "bgcolor": "#E5ECF6",
           "caxis": {
            "gridcolor": "white",
            "linecolor": "white",
            "ticks": ""
           }
          },
          "title": {
           "x": 0.05
          },
          "xaxis": {
           "automargin": true,
           "gridcolor": "white",
           "linecolor": "white",
           "ticks": "",
           "title": {
            "standoff": 15
           },
           "zerolinecolor": "white",
           "zerolinewidth": 2
          },
          "yaxis": {
           "automargin": true,
           "gridcolor": "white",
           "linecolor": "white",
           "ticks": "",
           "title": {
            "standoff": 15
           },
           "zerolinecolor": "white",
           "zerolinewidth": 2
          }
         }
        },
        "xaxis": {
         "anchor": "y",
         "domain": [
          0,
          1
         ],
         "title": {
          "text": "x"
         }
        },
        "yaxis": {
         "anchor": "x",
         "domain": [
          0,
          1
         ],
         "title": {
          "text": "y"
         }
        }
       }
      }
     },
     "metadata": {},
     "output_type": "display_data"
    }
   ],
   "source": [
    "import plotly.express as px\n",
    "\n",
    "\n",
    "px.scatter(y=btc_df['Close']['BTC-USD'].shift(1).dropna(), color=btc_log_chg['cluster'])"
   ]
  },
  {
   "cell_type": "code",
   "execution_count": 171,
   "metadata": {},
   "outputs": [
    {
     "data": {
      "text/plain": [
       "np.float64(-0.04614230710047578)"
      ]
     },
     "execution_count": 171,
     "metadata": {},
     "output_type": "execute_result"
    }
   ],
   "source": [
    "from sklearn.metrics import silhouette_score as ss\n",
    "\n",
    "ss(pd.DataFrame(btc_log_chg['BTC-USD']), btc_log_chg['cluster'])"
   ]
  },
  {
   "cell_type": "code",
   "execution_count": 172,
   "metadata": {},
   "outputs": [
    {
     "data": {
      "text/html": [
       "<div>\n",
       "<style scoped>\n",
       "    .dataframe tbody tr th:only-of-type {\n",
       "        vertical-align: middle;\n",
       "    }\n",
       "\n",
       "    .dataframe tbody tr th {\n",
       "        vertical-align: top;\n",
       "    }\n",
       "\n",
       "    .dataframe thead th {\n",
       "        text-align: right;\n",
       "    }\n",
       "</style>\n",
       "<table border=\"1\" class=\"dataframe\">\n",
       "  <thead>\n",
       "    <tr style=\"text-align: right;\">\n",
       "      <th></th>\n",
       "      <th>BTC-USD</th>\n",
       "    </tr>\n",
       "    <tr>\n",
       "      <th>Date</th>\n",
       "      <th></th>\n",
       "    </tr>\n",
       "  </thead>\n",
       "  <tbody>\n",
       "    <tr>\n",
       "      <th>2021-03-08</th>\n",
       "      <td>0.146778</td>\n",
       "    </tr>\n",
       "    <tr>\n",
       "      <th>2021-03-15</th>\n",
       "      <td>-0.030456</td>\n",
       "    </tr>\n",
       "    <tr>\n",
       "      <th>2021-03-22</th>\n",
       "      <td>-0.027720</td>\n",
       "    </tr>\n",
       "    <tr>\n",
       "      <th>2021-03-29</th>\n",
       "      <td>0.048965</td>\n",
       "    </tr>\n",
       "    <tr>\n",
       "      <th>2021-04-05</th>\n",
       "      <td>0.024318</td>\n",
       "    </tr>\n",
       "    <tr>\n",
       "      <th>...</th>\n",
       "      <td>...</td>\n",
       "    </tr>\n",
       "    <tr>\n",
       "      <th>2025-06-09</th>\n",
       "      <td>-0.002287</td>\n",
       "    </tr>\n",
       "    <tr>\n",
       "      <th>2025-06-16</th>\n",
       "      <td>-0.044211</td>\n",
       "    </tr>\n",
       "    <tr>\n",
       "      <th>2025-06-23</th>\n",
       "      <td>0.070702</td>\n",
       "    </tr>\n",
       "    <tr>\n",
       "      <th>2025-06-30</th>\n",
       "      <td>0.007780</td>\n",
       "    </tr>\n",
       "    <tr>\n",
       "      <th>2025-07-07</th>\n",
       "      <td>0.076687</td>\n",
       "    </tr>\n",
       "  </tbody>\n",
       "</table>\n",
       "<p>227 rows × 1 columns</p>\n",
       "</div>"
      ],
      "text/plain": [
       "             BTC-USD\n",
       "Date                \n",
       "2021-03-08  0.146778\n",
       "2021-03-15 -0.030456\n",
       "2021-03-22 -0.027720\n",
       "2021-03-29  0.048965\n",
       "2021-04-05  0.024318\n",
       "...              ...\n",
       "2025-06-09 -0.002287\n",
       "2025-06-16 -0.044211\n",
       "2025-06-23  0.070702\n",
       "2025-06-30  0.007780\n",
       "2025-07-07  0.076687\n",
       "\n",
       "[227 rows x 1 columns]"
      ]
     },
     "execution_count": 172,
     "metadata": {},
     "output_type": "execute_result"
    }
   ],
   "source": [
    "pd.DataFrame(btc_log_chg['BTC-USD'])"
   ]
  },
  {
   "cell_type": "markdown",
   "metadata": {},
   "source": [
    "## Take all daily tickers from fred and check best ss test"
   ]
  },
  {
   "cell_type": "markdown",
   "metadata": {},
   "source": [
    "## Macro regimes"
   ]
  },
  {
   "cell_type": "code",
   "execution_count": null,
   "metadata": {},
   "outputs": [],
   "source": [
    "df = get_fred_data(['VIXCLS','DCOILWTICO',],start_date=start_date, end_date=end_date, frequency='w')\n"
   ]
  }
 ],
 "metadata": {
  "kernelspec": {
   "display_name": ".venv",
   "language": "python",
   "name": "python3"
  },
  "language_info": {
   "codemirror_mode": {
    "name": "ipython",
    "version": 3
   },
   "file_extension": ".py",
   "mimetype": "text/x-python",
   "name": "python",
   "nbconvert_exporter": "python",
   "pygments_lexer": "ipython3",
   "version": "3.13.0"
  }
 },
 "nbformat": 4,
 "nbformat_minor": 2
}
